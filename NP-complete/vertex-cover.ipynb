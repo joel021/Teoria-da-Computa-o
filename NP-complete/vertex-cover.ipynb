{
 "cells": [
  {
   "cell_type": "markdown",
   "metadata": {},
   "source": [
    "# Vertex-Cover"
   ]
  },
  {
   "cell_type": "markdown",
   "metadata": {},
   "source": [
    "<p>Aqui é apresentado uma modelagem para o entendimento da prova de que VERTEX-COVER é NP completo através da redução para 3SAT. O 3SAT é um problema NP completo, então, se reduzirmos ele a outro problema, A, com um redutor em tempo polinomial, segue-se que A é NP completo também.</p>\n",
    "\n",
    "$A {<=}_{p} 3SAT => A \\in NPCompleto$"
   ]
  },
  {
   "cell_type": "markdown",
   "metadata": {},
   "source": [
    "### Setup"
   ]
  },
  {
   "cell_type": "code",
   "execution_count": 12,
   "metadata": {},
   "outputs": [],
   "source": [
    "def create_graph(vertices):\n",
    "    G = {}\n",
    "    G[\"vertices\"] = vertices\n",
    "    vertices_copy = vertices.copy()\n",
    "\n",
    "    edges_set = {}\n",
    "    for i in G['vertices'].keys():\n",
    "\n",
    "        for j in vertices_copy[i]:\n",
    "            \n",
    "            if i == j:\n",
    "                continue\n",
    "\n",
    "            connection = vertices_copy.get(j, None)\n",
    "            if connection != None:\n",
    "                edges_set[(i,j)] = False\n",
    "\n",
    "        vertices_copy.pop(i)\n",
    "\n",
    "    G[\"edges\"] = edges_set\n",
    "    return G"
   ]
  },
  {
   "cell_type": "markdown",
   "metadata": {},
   "source": [
    "## Vertex Verification algorithm"
   ]
  },
  {
   "cell_type": "code",
   "execution_count": 21,
   "metadata": {},
   "outputs": [],
   "source": [
    "def verifier(G, v_set_subgraph):\n",
    "\n",
    "    if len(G['vertices']) < len(v_set_subgraph):\n",
    "        return False\n",
    "\n",
    "    for v in v_set_subgraph: #len(v_set_subgraph) = k <= n\n",
    "        vertex = G['vertices'].get(v, None)\n",
    "        \n",
    "        if vertex == None:\n",
    "            return False\n",
    "\n",
    "        for i in vertex: #len(vertex) <= n-1\n",
    "\n",
    "            if G[\"edges\"].get((v,i),None) != None: #O(1)\n",
    "                G[\"edges\"].pop((v,i)) #O(1)\n",
    "            elif G[\"edges\"].get((i,v),None) != None: #O(1)\n",
    "                G[\"edges\"].pop((i,v)) #O(1)\n",
    "\n",
    "    if len(G[\"edges\"]) > 0:\n",
    "        return False\n",
    "    else:\n",
    "        return True"
   ]
  },
  {
   "cell_type": "markdown",
   "metadata": {},
   "source": [
    "## Test with an example"
   ]
  },
  {
   "cell_type": "code",
   "execution_count": 23,
   "metadata": {},
   "outputs": [
    {
     "data": {
      "text/plain": [
       "True"
      ]
     },
     "execution_count": 23,
     "metadata": {},
     "output_type": "execute_result"
    }
   ],
   "source": [
    "sub_graph = {1,2,4,3,6}\n",
    "\n",
    "G = create_graph({1: {2,3}, 2:{1,3,4,5}, 3:{1,2,4,6}, 4:{3,7,2,5},5:{2,4},6:{3,7},7:{6,4}})\n",
    "\n",
    "verifier(G, sub_graph)"
   ]
  },
  {
   "cell_type": "markdown",
   "metadata": {},
   "source": [
    "## Reduction to 3SAT"
   ]
  },
  {
   "cell_type": "markdown",
   "metadata": {},
   "source": [
    "**Shape of 3SAT**"
   ]
  },
  {
   "cell_type": "markdown",
   "metadata": {},
   "source": [
    "Ex.: $\\phi = (x_1 \\lor x_1 \\lor x_2) \\land (\\bar{x_1} \\lor \\bar{x_2} \\lor \\bar{x_2}) \\land (\\bar{x_1} \\lor x_2 \\lor x_2)$"
   ]
  },
  {
   "cell_type": "code",
   "execution_count": 8,
   "metadata": {},
   "outputs": [],
   "source": [
    "def reduction_3SAT_to_vertex(variable_set, phi):\n",
    "    vertices = {}\n",
    "\n",
    "    for x in variable_set.keys(): #n nodes\n",
    "        vertices[x] = {x+1} #x and ~x\n",
    "\n",
    "    for clause in phi:\n",
    "        \n",
    "        #connect the first with each other\n",
    "        if vertices.get(clause[0], None) == None:\n",
    "            vertices[clause[0]] = set()\n",
    "            \n",
    "        vertices[clause[0]].add(clause[1])\n",
    "        vertices[clause[0]].add(clause[2])\n",
    "\n",
    "        if vertices.get(clause[1], None) == None:\n",
    "            vertices[clause[1]] = set()\n",
    "        \n",
    "        vertices[clause[1]].add(clause[2])\n",
    "\n",
    "    return create_graph(vertices)\n"
   ]
  },
  {
   "cell_type": "markdown",
   "metadata": {},
   "source": [
    "**Test with an example**"
   ]
  },
  {
   "cell_type": "markdown",
   "metadata": {},
   "source": [
    "Ex.: $\\phi = (x_1 \\lor x_1 \\lor x_2) \\land (\\bar{x_1} \\lor \\bar{x_2} \\lor \\bar{x_2}) \\land (\\bar{x_1} \\lor x_2 \\lor x_2)$\n",
    "\n",
    "with variable set = **{1:\"x1\",3:\"x2\"}**\n",
    "\n",
    "the equation is defined as **phi = {(1,1,3),(2,4,4),(2,3,3)}**\n",
    "\n",
    "where **{1 -> \"x1\",2 -> \"~x1\",3 -> \"x2\",4 -> \"~x2\"}**"
   ]
  },
  {
   "cell_type": "code",
   "execution_count": 25,
   "metadata": {},
   "outputs": [
    {
     "name": "stdout",
     "output_type": "stream",
     "text": [
      "{x2,~x1} is solution: False\n",
      "{x1, ~x2} is solution: True\n"
     ]
    }
   ],
   "source": [
    "variable_set = {1:\"x1\",3:\"x2\"} #define a set of variables. x must be in odd position like 1,3,5,7...\n",
    "\n",
    "phi = {(1,1,3),(2,4,4),(2,3,3)}\n",
    "\n",
    "G = reduction_3SAT_to_vertex(variable_set, phi)\n",
    "\n",
    "sub_graph = {3,2} #Possible solution: {x2,~x1} = {3,2}\n",
    "print(\"{x2,~x1} is solution: \" + str(verifier(G, sub_graph)))\n",
    "\n",
    "sub_graph = {1,4} #Not solution: {x1, ~x2}\n",
    "print(\"{x1, ~x2} is solution: \" + str(verifier(G, sub_graph)))"
   ]
  }
 ],
 "metadata": {
  "kernelspec": {
   "display_name": "Python 3.10.5 64-bit",
   "language": "python",
   "name": "python3"
  },
  "language_info": {
   "codemirror_mode": {
    "name": "ipython",
    "version": 3
   },
   "file_extension": ".py",
   "mimetype": "text/x-python",
   "name": "python",
   "nbconvert_exporter": "python",
   "pygments_lexer": "ipython3",
   "version": "3.10.5"
  },
  "orig_nbformat": 4,
  "vscode": {
   "interpreter": {
    "hash": "d3e10ef16274dd72e574b8fa73b58450b957d8421a2901baded3cca26fcf5dda"
   }
  }
 },
 "nbformat": 4,
 "nbformat_minor": 2
}
